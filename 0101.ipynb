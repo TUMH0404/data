{
  "nbformat": 4,
  "nbformat_minor": 0,
  "metadata": {
    "colab": {
      "name": "0101.ipynb",
      "provenance": [],
      "authorship_tag": "ABX9TyNADmvVxUWn54CBwAQJIt0T",
      "include_colab_link": true
    },
    "kernelspec": {
      "name": "python3",
      "display_name": "Python 3"
    },
    "language_info": {
      "name": "python"
    }
  },
  "cells": [
    {
      "cell_type": "markdown",
      "metadata": {
        "id": "view-in-github",
        "colab_type": "text"
      },
      "source": [
        "<a href=\"https://colab.research.google.com/github/TUMH0404/data/blob/master/0101.ipynb\" target=\"_parent\"><img src=\"https://colab.research.google.com/assets/colab-badge.svg\" alt=\"Open In Colab\"/></a>"
      ]
    },
    {
      "cell_type": "markdown",
      "source": [
        "## ライブラリのインポート"
      ],
      "metadata": {
        "id": "l7jc1z4CjEpf"
      }
    },
    {
      "cell_type": "code",
      "execution_count": 160,
      "metadata": {
        "id": "TPq1Mp1XX4lX"
      },
      "outputs": [],
      "source": [
        "import numpy as np\n",
        "import pandas as pd\n",
        "import matplotlib.pyplot as plt\n",
        "import datetime\n",
        "import scipy.stats as stats"
      ]
    },
    {
      "cell_type": "markdown",
      "source": [
        "## データを整理する[重要]"
      ],
      "metadata": {
        "id": "ft5AQU8ljM-2"
      }
    },
    {
      "cell_type": "markdown",
      "source": [
        "データは2021年11月16日～23日の心拍数と歩数が日別にそれぞれファイルに保存されている。ファイル内は、時系列（00:00:00）で15分おきに、心拍数および歩数が記録されている。これらのデータを一つずつ取得する必要がある。"
      ],
      "metadata": {
        "id": "ZAhBwP2Fje6C"
      }
    },
    {
      "cell_type": "markdown",
      "source": [
        "## stepのデータ"
      ],
      "metadata": {
        "id": "ctkzYnM-jW9S"
      }
    },
    {
      "cell_type": "code",
      "source": [
        "myd1 = {}\n",
        "for i in range(16,24,1):\n",
        "    date = f\"2021-11-{i}\"\n",
        "    try:    \n",
        "        file1 = f\"https://raw.githubusercontent.com/TUMH0404/data/master/2021_samp/step_{date}.txt\"\n",
        "        dat1 = pd.read_csv(file1)\n",
        "    except:\n",
        "        dat1 = pd.DataFrame({\"time\":[],\"value\":[]})\n",
        "\n",
        "    myd1.update({date:dat1})\n"
      ],
      "metadata": {
        "id": "QKNgAXgkbrYk"
      },
      "execution_count": 9,
      "outputs": []
    },
    {
      "cell_type": "markdown",
      "source": [
        "## HRのデータ"
      ],
      "metadata": {
        "id": "8QtM4Ys-jaXG"
      }
    },
    {
      "cell_type": "code",
      "source": [
        "myd2 = {}\n",
        "for i in range(16,24,1):\n",
        "    date = f\"2021-11-{i}\"\n",
        "    try:\n",
        "        file2 = f\"https://raw.githubusercontent.com/TUMH0404/data/master/2021_samp/HR_{date}.txt\"\n",
        "        dat2 = pd.read_csv(file2)\n",
        "\n",
        "    except:\n",
        "        # データがない場合はからデータを追加する\n",
        "        dat2 = pd.DataFrame({\"time\":[],\"value\":[]})\n",
        "    \n",
        "    myd2.update({date:dat2})\n"
      ],
      "metadata": {
        "id": "nr9n5y3zcDnd"
      },
      "execution_count": 10,
      "outputs": []
    },
    {
      "cell_type": "markdown",
      "source": [
        "## データフレームの作成"
      ],
      "metadata": {
        "id": "8jTezXHykXHH"
      }
    },
    {
      "cell_type": "markdown",
      "source": [
        "日付及び時刻からunixタイムに変更して、すべてのデータを結合して一つのデータフレームを作成する。"
      ],
      "metadata": {
        "id": "7uPAdS_gkM2h"
      }
    },
    {
      "cell_type": "code",
      "source": [
        "# datetimeからunixtimeに変更する関数\n",
        "def timetounix(date,time):\n",
        "    date_str = f'{date} {time}'\n",
        "    date_dt = datetime.datetime.strptime(date_str, '%Y-%m-%d %H:%M:%S')\n",
        "    return int(date_dt.timestamp())\n",
        "\n",
        "# datetimeに変更する関数\n",
        "def unixtotime(unixtime):\n",
        "    datetime.datetime.fromtimestamp(unixtime)"
      ],
      "metadata": {
        "id": "_3jmsUhPkg-Y"
      },
      "execution_count": 170,
      "outputs": []
    },
    {
      "cell_type": "markdown",
      "source": [
        "データを整理する"
      ],
      "metadata": {
        "id": "raJu9Mgbq-xd"
      }
    },
    {
      "cell_type": "code",
      "source": [
        "dat = []\n",
        "dd = list(myd1.keys())\n",
        "dd.sort()\n",
        "for k in dd:\n",
        "    print(k)\n",
        "    # 結合する\n",
        "    df = pd.merge(myd2[k],myd1[k],how=\"outer\",on=\"time\")\n",
        "    # unixtimeに変更する\n",
        "    f = lambda x: timetounix(k,x)\n",
        "    df[\"time\"] = df['time'].map(f)\n",
        "    # 時系列順に並べ替える\n",
        "    dfsort = df.sort_values('time')\n",
        "    # datに追加する\n",
        "    dat.append(dfsort)\n"
      ],
      "metadata": {
        "id": "z-ZuCGJJK5nN"
      },
      "execution_count": null,
      "outputs": []
    },
    {
      "cell_type": "markdown",
      "source": [
        "すべてのデータを結合する。"
      ],
      "metadata": {
        "id": "Uao2eTRWkrNa"
      }
    },
    {
      "cell_type": "code",
      "source": [
        "dfnew = pd.concat(dat)\n",
        "dfnew.columns = [\"time\",\"HR\",\"step\"]\n",
        "dfnew.head()\n",
        "# NaNはデータがないということである。"
      ],
      "metadata": {
        "colab": {
          "base_uri": "https://localhost:8080/",
          "height": 206
        },
        "id": "w4vyOM6kS4cf",
        "outputId": "1eb018ac-72b9-47e8-c0ac-5540d47a14ec"
      },
      "execution_count": 167,
      "outputs": [
        {
          "output_type": "execute_result",
          "data": {
            "text/html": [
              "<div>\n",
              "<style scoped>\n",
              "    .dataframe tbody tr th:only-of-type {\n",
              "        vertical-align: middle;\n",
              "    }\n",
              "\n",
              "    .dataframe tbody tr th {\n",
              "        vertical-align: top;\n",
              "    }\n",
              "\n",
              "    .dataframe thead th {\n",
              "        text-align: right;\n",
              "    }\n",
              "</style>\n",
              "<table border=\"1\" class=\"dataframe\">\n",
              "  <thead>\n",
              "    <tr style=\"text-align: right;\">\n",
              "      <th></th>\n",
              "      <th>time</th>\n",
              "      <th>HR</th>\n",
              "      <th>step</th>\n",
              "    </tr>\n",
              "  </thead>\n",
              "  <tbody>\n",
              "    <tr>\n",
              "      <th>22</th>\n",
              "      <td>1637020800</td>\n",
              "      <td>NaN</td>\n",
              "      <td>0</td>\n",
              "    </tr>\n",
              "    <tr>\n",
              "      <th>23</th>\n",
              "      <td>1637021700</td>\n",
              "      <td>NaN</td>\n",
              "      <td>0</td>\n",
              "    </tr>\n",
              "    <tr>\n",
              "      <th>24</th>\n",
              "      <td>1637022600</td>\n",
              "      <td>NaN</td>\n",
              "      <td>0</td>\n",
              "    </tr>\n",
              "    <tr>\n",
              "      <th>25</th>\n",
              "      <td>1637023500</td>\n",
              "      <td>NaN</td>\n",
              "      <td>0</td>\n",
              "    </tr>\n",
              "    <tr>\n",
              "      <th>26</th>\n",
              "      <td>1637024400</td>\n",
              "      <td>NaN</td>\n",
              "      <td>0</td>\n",
              "    </tr>\n",
              "  </tbody>\n",
              "</table>\n",
              "</div>"
            ],
            "text/plain": [
              "          time  HR  step\n",
              "22  1637020800 NaN     0\n",
              "23  1637021700 NaN     0\n",
              "24  1637022600 NaN     0\n",
              "25  1637023500 NaN     0\n",
              "26  1637024400 NaN     0"
            ]
          },
          "metadata": {},
          "execution_count": 167
        }
      ]
    },
    {
      "cell_type": "markdown",
      "source": [
        "後で計算しすいようにnumpyで処理できるようにdf_npを作っておく。"
      ],
      "metadata": {
        "id": "GR9936sgkz74"
      }
    },
    {
      "cell_type": "code",
      "source": [
        "df_np = dfnew.to_numpy()"
      ],
      "metadata": {
        "id": "bnnFjCw6XaA_"
      },
      "execution_count": 82,
      "outputs": []
    },
    {
      "cell_type": "markdown",
      "source": [
        "## ①これら全てのデータを可視化する。"
      ],
      "metadata": {
        "id": "02xzUadQecnz"
      }
    },
    {
      "cell_type": "code",
      "source": [
        "fig, ax = plt.subplots(figsize=(7, 4))\n",
        "\n",
        "ax1 = ax.twinx()\n",
        " \n",
        "ax.plot(df_np[:,0],df_np[:,2],c=\"b\")\n",
        "ax1.plot(df_np[:,0],df_np[:,1],c=\"r\")\n",
        "\n",
        "ax.set_ylabel(\"step\")\n",
        "ax1.set_ylabel(\"HR\")\n",
        "ax.set_xlabel(\"unixtime\")"
      ],
      "metadata": {
        "colab": {
          "base_uri": "https://localhost:8080/",
          "height": 297
        },
        "id": "f2Zs5uK3Nt0G",
        "outputId": "69fa4184-ec64-47ad-9f32-4f218e511518"
      },
      "execution_count": 132,
      "outputs": [
        {
          "output_type": "execute_result",
          "data": {
            "text/plain": [
              "Text(0.5, 0, 'unixtime')"
            ]
          },
          "metadata": {},
          "execution_count": 132
        },
        {
          "output_type": "display_data",
          "data": {
            "image/png": "[encoded data removed]",
            "text/plain": [
              "<Figure size 504x288 with 2 Axes>"
            ]
          },
          "metadata": {
            "needs_background": "light"
          }
        }
      ]
    },
    {
      "cell_type": "markdown",
      "source": [
        "## ②これらのデータを使って安静時心拍数を求めよ。"
      ],
      "metadata": {
        "id": "Qb7VNS1leYsQ"
      }
    },
    {
      "cell_type": "markdown",
      "source": [
        "安静時をステップが0の時と定義する。"
      ],
      "metadata": {
        "id": "m_o2hTA5eprp"
      }
    },
    {
      "cell_type": "code",
      "source": [
        "hr = df_np[df_np[:,2]==0][:,1]\n",
        "hrrest = hr[~np.isnan(hr)]"
      ],
      "metadata": {
        "id": "6t6tFYQCXq4M"
      },
      "execution_count": 109,
      "outputs": []
    },
    {
      "cell_type": "markdown",
      "source": [
        "データファイルをみると、おかしなデータがある。例えばステップが0にもかかわらず、心拍数が明らかに高いときがある。そのような値は除外すべきである。\n",
        "\n",
        "\n",
        "ヒストグラム、ボックスプロットを描写してデータの構成を確認する。"
      ],
      "metadata": {
        "id": "ZNbF-vcUlHBl"
      }
    },
    {
      "cell_type": "code",
      "source": [
        "plt.hist(hrrest)"
      ],
      "metadata": {
        "colab": {
          "base_uri": "https://localhost:8080/",
          "height": 337
        },
        "id": "0m-LN9_0fHIy",
        "outputId": "2d282bc7-5810-4d4b-ff4f-cf6736e25e57"
      },
      "execution_count": 135,
      "outputs": [
        {
          "output_type": "execute_result",
          "data": {
            "text/plain": [
              "(array([32., 85., 18.,  1.,  0.,  1.,  3.,  0.,  1.,  3.]),\n",
              " array([ 37. ,  47.5,  58. ,  68.5,  79. ,  89.5, 100. , 110.5, 121. ,\n",
              "        131.5, 142. ]),\n",
              " <a list of 10 Patch objects>)"
            ]
          },
          "metadata": {},
          "execution_count": 135
        },
        {
          "output_type": "display_data",
          "data": {
            "image/png": "[encoded data removed]",
            "text/plain": [
              "<Figure size 432x288 with 1 Axes>"
            ]
          },
          "metadata": {
            "needs_background": "light"
          }
        }
      ]
    },
    {
      "cell_type": "code",
      "source": [
        "plt.boxplot(hrrest)"
      ],
      "metadata": {
        "colab": {
          "base_uri": "https://localhost:8080/",
          "height": 409
        },
        "id": "lM-PN--hZgnF",
        "outputId": "0fd56e99-cc97-4628-b0dc-72790bb91084"
      },
      "execution_count": 136,
      "outputs": [
        {
          "output_type": "execute_result",
          "data": {
            "text/plain": [
              "{'boxes': [<matplotlib.lines.Line2D at 0x7f33448e2a90>],\n",
              " 'caps': [<matplotlib.lines.Line2D at 0x7f3344869b10>,\n",
              "  <matplotlib.lines.Line2D at 0x7f334486f090>],\n",
              " 'fliers': [<matplotlib.lines.Line2D at 0x7f334486fb50>],\n",
              " 'means': [],\n",
              " 'medians': [<matplotlib.lines.Line2D at 0x7f334486f610>],\n",
              " 'whiskers': [<matplotlib.lines.Line2D at 0x7f3344869090>,\n",
              "  <matplotlib.lines.Line2D at 0x7f33448695d0>]}"
            ]
          },
          "metadata": {},
          "execution_count": 136
        },
        {
          "output_type": "display_data",
          "data": {
            "image/png": "[encoded data removed]",
            "text/plain": [
              "<Figure size 432x288 with 1 Axes>"
            ]
          },
          "metadata": {
            "needs_background": "light"
          }
        }
      ]
    },
    {
      "cell_type": "markdown",
      "source": [
        "念のため、コルモゴロフ・スミルノフ検定およびシャピロ・ウィルク検定を実施する。"
      ],
      "metadata": {
        "id": "GZRidJdtly--"
      }
    },
    {
      "cell_type": "code",
      "source": [
        "stats.shapiro(hrrest)"
      ],
      "metadata": {
        "colab": {
          "base_uri": "https://localhost:8080/",
          "height": 0
        },
        "id": "ITPs8c3fcRSx",
        "outputId": "1509907c-4f99-4e1b-a4fb-9ed1b00bc58f"
      },
      "execution_count": 122,
      "outputs": [
        {
          "output_type": "execute_result",
          "data": {
            "text/plain": [
              "(0.5842590928077698, 1.719576144599736e-18)"
            ]
          },
          "metadata": {},
          "execution_count": 122
        }
      ]
    },
    {
      "cell_type": "code",
      "source": [
        "stats.kstest(hrrest,\"norm\")"
      ],
      "metadata": {
        "colab": {
          "base_uri": "https://localhost:8080/",
          "height": 0
        },
        "id": "nzHHxrB7cYWB",
        "outputId": "b6a81881-9f39-424d-c5fd-e51b6a266dca"
      },
      "execution_count": 125,
      "outputs": [
        {
          "output_type": "execute_result",
          "data": {
            "text/plain": [
              "KstestResult(statistic=1.0, pvalue=0.0)"
            ]
          },
          "metadata": {},
          "execution_count": 125
        }
      ]
    },
    {
      "cell_type": "markdown",
      "source": [
        "qqプロットを描写する。"
      ],
      "metadata": {
        "id": "QnwyMVlOmDwg"
      }
    },
    {
      "cell_type": "code",
      "source": [
        "fig = plt.figure()\n",
        "figqq = stats.probplot(hrrest, dist=\"norm\", plot=plt)"
      ],
      "metadata": {
        "colab": {
          "base_uri": "https://localhost:8080/",
          "height": 295
        },
        "id": "vPz33q_4bxaH",
        "outputId": "d9a5d39b-7ebf-4543-d347-8bf3ac8c6a53"
      },
      "execution_count": 159,
      "outputs": [
        {
          "output_type": "display_data",
          "data": {
            "image/png": "[encoded data removed]",
            "text/plain": [
              "<Figure size 432x288 with 1 Axes>"
            ]
          },
          "metadata": {
            "needs_background": "light"
          }
        }
      ]
    },
    {
      "cell_type": "markdown",
      "source": [
        "以上の点から、hrrestに格納されているデータは正規分布とは言えない。外れ値があると考える。"
      ],
      "metadata": {
        "id": "EwCIT1rqmG4B"
      }
    },
    {
      "cell_type": "markdown",
      "source": [
        "箱ひげ図から、外れ値の80以上のデータを除外して検定およびqqプロット描写を行う。"
      ],
      "metadata": {
        "id": "NoWLUlQgejm5"
      }
    },
    {
      "cell_type": "code",
      "source": [
        "plt.hist(hrrest[hrrest<80])"
      ],
      "metadata": {
        "colab": {
          "base_uri": "https://localhost:8080/",
          "height": 319
        },
        "id": "cPwPIZHkfO6n",
        "outputId": "9b2d05c1-0f16-48da-8dca-0e5b608fee7a"
      },
      "execution_count": 137,
      "outputs": [
        {
          "output_type": "execute_result",
          "data": {
            "text/plain": [
              "(array([ 6.,  9., 17., 24., 34., 27.,  9.,  7.,  1.,  2.]),\n",
              " array([37. , 40.4, 43.8, 47.2, 50.6, 54. , 57.4, 60.8, 64.2, 67.6, 71. ]),\n",
              " <a list of 10 Patch objects>)"
            ]
          },
          "metadata": {},
          "execution_count": 137
        },
        {
          "output_type": "display_data",
          "data": {
            "image/png": "[encoded data removed]",
            "text/plain": [
              "<Figure size 432x288 with 1 Axes>"
            ]
          },
          "metadata": {
            "needs_background": "light"
          }
        }
      ]
    },
    {
      "cell_type": "code",
      "source": [
        "plt.boxplot(hrrest[hrrest<80])"
      ],
      "metadata": {
        "colab": {
          "base_uri": "https://localhost:8080/",
          "height": 409
        },
        "id": "c2lWJCpUZwnt",
        "outputId": "fa06cbff-3285-473f-c7e0-c8ecf9342184"
      },
      "execution_count": 138,
      "outputs": [
        {
          "output_type": "execute_result",
          "data": {
            "text/plain": [
              "{'boxes': [<matplotlib.lines.Line2D at 0x7f33447dc490>],\n",
              " 'caps': [<matplotlib.lines.Line2D at 0x7f33447e4510>,\n",
              "  <matplotlib.lines.Line2D at 0x7f33447e4a50>],\n",
              " 'fliers': [<matplotlib.lines.Line2D at 0x7f334476a550>],\n",
              " 'means': [],\n",
              " 'medians': [<matplotlib.lines.Line2D at 0x7f33447e4fd0>],\n",
              " 'whiskers': [<matplotlib.lines.Line2D at 0x7f33447dca50>,\n",
              "  <matplotlib.lines.Line2D at 0x7f33447dcf90>]}"
            ]
          },
          "metadata": {},
          "execution_count": 138
        },
        {
          "output_type": "display_data",
          "data": {
            "image/png": "[encoded data removed]",
            "text/plain": [
              "<Figure size 432x288 with 1 Axes>"
            ]
          },
          "metadata": {
            "needs_background": "light"
          }
        }
      ]
    },
    {
      "cell_type": "code",
      "source": [
        "fig = plt.figure()\n",
        "figqq = stats.probplot(hrrest[hrrest<80], dist=\"norm\", plot=plt)"
      ],
      "metadata": {
        "colab": {
          "base_uri": "https://localhost:8080/",
          "height": 295
        },
        "id": "i3inigUvbbu2",
        "outputId": "6b6a1305-ce37-4921-8c3e-ed7777688e03"
      },
      "execution_count": 163,
      "outputs": [
        {
          "output_type": "display_data",
          "data": {
            "image/png": "[encoded data removed]",
            "text/plain": [
              "<Figure size 432x288 with 1 Axes>"
            ]
          },
          "metadata": {
            "needs_background": "light"
          }
        }
      ]
    },
    {
      "cell_type": "markdown",
      "source": [
        "qqプロットから現時点のデータは正規分布に従うものと考えて問題ないと思われる。"
      ],
      "metadata": {
        "id": "gFP0SWjDmtGW"
      }
    },
    {
      "cell_type": "markdown",
      "source": [
        "安静時の心拍数"
      ],
      "metadata": {
        "id": "MaJQ-jgGnLUI"
      }
    },
    {
      "cell_type": "code",
      "source": [
        "print(f\"安静時心拍数：{np.mean(hrrest[hrrest<80],dtype=np.int)} bpm\")"
      ],
      "metadata": {
        "colab": {
          "base_uri": "https://localhost:8080/",
          "height": 0
        },
        "id": "L4eQnwbrnO3M",
        "outputId": "af3ff273-246f-4e90-ab6b-81ff5d4fde4e"
      },
      "execution_count": 166,
      "outputs": [
        {
          "output_type": "stream",
          "name": "stdout",
          "text": [
            "安静時心拍数：51 bpm\n"
          ]
        }
      ]
    },
    {
      "cell_type": "markdown",
      "source": [
        "## ③この8日間うち、最高心拍数の値と、その時の歩数を求める。"
      ],
      "metadata": {
        "id": "ReKd4hQee9Gq"
      }
    },
    {
      "cell_type": "code",
      "source": [
        "hr_move = df_np[df_np[:,2]>0]\n",
        "hr_move_new = hr_move[~np.isnan(hr_move).any(axis=1), :]\n",
        "n = np.argmax(hr_move_new[:,1])\n",
        "print(f\"運動中の最大心拍数時のステップ数は{hr_move_new[n,2]}歩である。\")"
      ],
      "metadata": {
        "colab": {
          "base_uri": "https://localhost:8080/",
          "height": 0
        },
        "id": "swGKgm_7e8s1",
        "outputId": "55243953-7b96-4e94-e966-edaf52b03dca"
      },
      "execution_count": 157,
      "outputs": [
        {
          "output_type": "stream",
          "name": "stdout",
          "text": [
            "運動中の最大心拍数時のステップ数は2457.0歩である。\n"
          ]
        }
      ]
    }
  ]
}